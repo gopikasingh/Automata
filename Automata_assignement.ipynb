{
  "nbformat": 4,
  "nbformat_minor": 0,
  "metadata": {
    "colab": {
      "name": "Automata assignement.ipynb",
      "provenance": [],
      "collapsed_sections": []
    },
    "kernelspec": {
      "name": "python3",
      "display_name": "Python 3"
    },
    "language_info": {
      "name": "python"
    }
  },
  "cells": [
    {
      "cell_type": "markdown",
      "metadata": {
        "id": "plhC7XaTkoGT"
      },
      "source": [
        "#**Combining two DFAs by Union operation**"
      ]
    },
    {
      "cell_type": "code",
      "metadata": {
        "id": "SdDMQ5xins6E",
        "colab": {
          "base_uri": "https://localhost:8080/"
        },
        "outputId": "8b17f8de-51e3-40b0-94f0-1566fe961ca3"
      },
      "source": [
        "!pip install automata-lib\n",
        "!pip install orderedset"
      ],
      "execution_count": null,
      "outputs": [
        {
          "output_type": "stream",
          "name": "stdout",
          "text": [
            "Collecting automata-lib\n",
            "  Downloading automata_lib-5.0.0-py3-none-any.whl (32 kB)\n",
            "Requirement already satisfied: pydot in /usr/local/lib/python3.7/dist-packages (from automata-lib) (1.3.0)\n",
            "Requirement already satisfied: pyparsing>=2.1.4 in /usr/local/lib/python3.7/dist-packages (from pydot->automata-lib) (3.0.6)\n",
            "Installing collected packages: automata-lib\n",
            "Successfully installed automata-lib-5.0.0\n",
            "Collecting orderedset\n",
            "  Downloading orderedset-2.0.3.tar.gz (101 kB)\n",
            "\u001b[K     |████████████████████████████████| 101 kB 4.4 MB/s \n",
            "\u001b[?25hBuilding wheels for collected packages: orderedset\n",
            "  Building wheel for orderedset (setup.py) ... \u001b[?25l\u001b[?25hdone\n",
            "  Created wheel for orderedset: filename=orderedset-2.0.3-cp37-cp37m-linux_x86_64.whl size=246849 sha256=ec9b589d8b42c05153f400e27e0022aff252714752025b9456363dd9dafb787d\n",
            "  Stored in directory: /root/.cache/pip/wheels/eb/9c/6a/ecfe7f54e9abe9dfc33d58f593851b684a9bb3ee2fc076a90e\n",
            "Successfully built orderedset\n",
            "Installing collected packages: orderedset\n",
            "Successfully installed orderedset-2.0.3\n"
          ]
        }
      ]
    },
    {
      "cell_type": "code",
      "metadata": {
        "id": "lYBMyGwsosrM"
      },
      "source": [
        "from automata.base.automaton import Automaton"
      ],
      "execution_count": null,
      "outputs": []
    },
    {
      "cell_type": "code",
      "metadata": {
        "id": "gZS9eXcGybLV"
      },
      "source": [
        "from automata.fa.fa import FA"
      ],
      "execution_count": null,
      "outputs": []
    },
    {
      "cell_type": "code",
      "metadata": {
        "id": "ww-MO3dktNy-"
      },
      "source": [
        "from orderedset import OrderedSet"
      ],
      "execution_count": null,
      "outputs": []
    },
    {
      "cell_type": "markdown",
      "metadata": {
        "id": "QrzmfoxNkioy"
      },
      "source": [
        "#**Creating the 1st DFA**"
      ]
    },
    {
      "cell_type": "code",
      "metadata": {
        "colab": {
          "base_uri": "https://localhost:8080/"
        },
        "id": "KwTMKao9boD8",
        "outputId": "55bf7aa0-0262-444c-8d98-7d75071107bf"
      },
      "source": [
        "print(\"For 1st DFA ->\\n\\nEnter the states seperated by a comma(and without space): \",end=\"\")\n",
        "x = OrderedSet(input().split(','))\n",
        "print(\"\\nEnter the input alphabets for the first DFA : \",end=\"\")\n",
        "inp = OrderedSet(input().split(','))"
      ],
      "execution_count": null,
      "outputs": [
        {
          "name": "stdout",
          "output_type": "stream",
          "text": [
            "For 1st DFA ->\n",
            "\n",
            "Enter the states seperated by a comma(and without space): q0,q1,q2\n",
            "\n",
            "Enter the input alphabets for the first DFA : 0,1\n"
          ]
        }
      ]
    },
    {
      "cell_type": "code",
      "metadata": {
        "colab": {
          "base_uri": "https://localhost:8080/"
        },
        "id": "XYv-zG7ug7fg",
        "outputId": "ddf8b2da-1dc0-4573-f851-d6460f06ff3f"
      },
      "source": [
        "print(x,inp)"
      ],
      "execution_count": null,
      "outputs": [
        {
          "output_type": "stream",
          "name": "stdout",
          "text": [
            "OrderedSet(['q0', 'q1', 'q2']) OrderedSet(['0', '1'])\n"
          ]
        }
      ]
    },
    {
      "cell_type": "code",
      "metadata": {
        "colab": {
          "base_uri": "https://localhost:8080/"
        },
        "id": "m9Mva2mhcH_-",
        "outputId": "0fe18045-7a60-40eb-b3f2-bfcb33aacc05"
      },
      "source": [
        "dictt = {}\n",
        "zero = 1\n",
        "for i in x:\n",
        "  print(\"The transition\",zero)\n",
        "  temp = {}\n",
        "  for j in inp:\n",
        "    print(\"for the state\",i,\"and input alphabet\",j,\"= \",end=\"\")\n",
        "    state1 = input()\n",
        "    temp[j]=state1\n",
        "  zero+=1\n",
        "  dictt[i] = temp\n",
        "  print(\"\\n\")\n",
        "\n",
        "print(\"\\n\",dictt,\"\\n\")\n"
      ],
      "execution_count": null,
      "outputs": [
        {
          "output_type": "stream",
          "name": "stdout",
          "text": [
            "The transition 1\n",
            "for the state q0 and input alphabet 0 = q0\n",
            "for the state q0 and input alphabet 1 = q1\n",
            "\n",
            "\n",
            "The transition 2\n",
            "for the state q1 and input alphabet 0 = q0\n",
            "for the state q1 and input alphabet 1 = q2\n",
            "\n",
            "\n",
            "The transition 3\n",
            "for the state q2 and input alphabet 0 = q2\n",
            "for the state q2 and input alphabet 1 = q1\n",
            "\n",
            "\n",
            "\n",
            " {'q0': {'0': 'q0', '1': 'q1'}, 'q1': {'0': 'q0', '1': 'q2'}, 'q2': {'0': 'q2', '1': 'q1'}} \n",
            "\n"
          ]
        }
      ]
    },
    {
      "cell_type": "code",
      "metadata": {
        "id": "vIl-LgvijoYv",
        "colab": {
          "base_uri": "https://localhost:8080/"
        },
        "outputId": "8fdd5668-0e66-4b8b-929e-86b6d04d81fd"
      },
      "source": [
        "print(\"Enter the initial state: \",end=\"\")\n",
        "ini = input()\n",
        "\n",
        "print(\"Enter the final states: \",end=\"\")\n",
        "fin = set(input().split(','))\n"
      ],
      "execution_count": null,
      "outputs": [
        {
          "name": "stdout",
          "output_type": "stream",
          "text": [
            "Enter the initial state: q0\n",
            "Enter the final states: q1\n"
          ]
        }
      ]
    },
    {
      "cell_type": "code",
      "metadata": {
        "id": "usU1Y5XoyfAR"
      },
      "source": [
        "from automata.fa.dfa import DFA\n",
        "# DFA which matches all binary strings ending in an odd number of '1's\n",
        "dfa1 = DFA(\n",
        "    states=x,\n",
        "    input_symbols=inp,\n",
        "    transitions=dictt,\n",
        "    initial_state=ini,\n",
        "    final_states=fin\n",
        ")"
      ],
      "execution_count": null,
      "outputs": []
    },
    {
      "cell_type": "markdown",
      "metadata": {
        "id": "3tXyWI-nk6XB"
      },
      "source": [
        "#**Creating the 2nd DFA**"
      ]
    },
    {
      "cell_type": "code",
      "metadata": {
        "colab": {
          "base_uri": "https://localhost:8080/"
        },
        "id": "_uiI0YMLlC_z",
        "outputId": "92398b10-ceae-4230-d684-d70b356b9259"
      },
      "source": [
        "print(\"For 2nd DFA ->\\n\\nEnter the states seperated by a comma(and without space): \",end=\"\")\n",
        "x1 = OrderedSet(input().split(','))\n",
        "print(\"\\nEnter the input alphabets for the first DFA : \",end=\"\")\n",
        "inp1 = OrderedSet(input().split(','))"
      ],
      "execution_count": null,
      "outputs": [
        {
          "name": "stdout",
          "output_type": "stream",
          "text": [
            "For 2nd DFA ->\n",
            "\n",
            "Enter the states seperated by a comma(and without space): q00,q11,q22,q33\n",
            "\n",
            "Enter the input alphabets for the first DFA : 0,1\n"
          ]
        }
      ]
    },
    {
      "cell_type": "code",
      "metadata": {
        "id": "mxXLKSC9lP2B",
        "colab": {
          "base_uri": "https://localhost:8080/"
        },
        "outputId": "e783d2c0-fbc6-443c-d4f5-33fb8ba8fc97"
      },
      "source": [
        "dictt1 = {}\n",
        "zero1 = 1\n",
        "for ii in x1:\n",
        "  print(\"The transition\",zero1)\n",
        "  temp1 = {}\n",
        "  for jj in inp1:\n",
        "    print(\"for the state\",ii,\"and input alphabet\",jj,\"= \",end=\"\")\n",
        "    state1 = input()\n",
        "    temp1[jj]=state1\n",
        "  zero1+=1\n",
        "  dictt1[ii] = temp1\n",
        "  print(\"\\n\")\n",
        "print(\"\\n\",dictt1,\"\\n\")\n"
      ],
      "execution_count": null,
      "outputs": [
        {
          "output_type": "stream",
          "name": "stdout",
          "text": [
            "The transition 1\n",
            "for the state q00 and input alphabet 0 = q11\n",
            "for the state q00 and input alphabet 1 = q33\n",
            "\n",
            "\n",
            "The transition 2\n",
            "for the state q11 and input alphabet 0 = q33\n",
            "for the state q11 and input alphabet 1 = q22\n",
            "\n",
            "\n",
            "The transition 3\n",
            "for the state q22 and input alphabet 0 = q22\n",
            "for the state q22 and input alphabet 1 = q22\n",
            "\n",
            "\n",
            "The transition 4\n",
            "for the state q33 and input alphabet 0 = q33\n",
            "for the state q33 and input alphabet 1 = q33\n",
            "\n",
            "\n",
            "\n",
            " {'q00': {'0': 'q11', '1': 'q33'}, 'q11': {'0': 'q33', '1': 'q22'}, 'q22': {'0': 'q22', '1': 'q22'}, 'q33': {'0': 'q33', '1': 'q33'}} \n",
            "\n"
          ]
        }
      ]
    },
    {
      "cell_type": "code",
      "metadata": {
        "id": "xodjYyZnlW_u",
        "colab": {
          "base_uri": "https://localhost:8080/"
        },
        "outputId": "6dfc1373-d1d7-4ab9-8206-ab259a16311c"
      },
      "source": [
        "\n",
        "print(\"Enter the initial state: \",end=\"\")\n",
        "ini1 = input()\n",
        "\n",
        "print(\"Enter the final states: \",end=\"\")\n",
        "fin1 = OrderedSet(input().split(','))"
      ],
      "execution_count": null,
      "outputs": [
        {
          "name": "stdout",
          "output_type": "stream",
          "text": [
            "Enter the initial state: q00\n",
            "Enter the final states: q22\n"
          ]
        }
      ]
    },
    {
      "cell_type": "code",
      "metadata": {
        "id": "EDeUqvuxXfta"
      },
      "source": [
        "other_dfa = DFA(\n",
        "    states=x1,\n",
        "    input_symbols=inp1,\n",
        "    transitions=dictt1,\n",
        "    initial_state=ini1,\n",
        "    final_states=fin1\n",
        ")"
      ],
      "execution_count": null,
      "outputs": []
    },
    {
      "cell_type": "code",
      "metadata": {
        "id": "HT_oBu7MQnLk"
      },
      "source": [
        ""
      ],
      "execution_count": null,
      "outputs": []
    },
    {
      "cell_type": "markdown",
      "metadata": {
        "id": "zjhzDqjkniWq"
      },
      "source": [
        "#**Checking what strings do the DFAs accept**"
      ]
    },
    {
      "cell_type": "code",
      "metadata": {
        "id": "_EjmzOinpp_f",
        "colab": {
          "base_uri": "https://localhost:8080/"
        },
        "outputId": "da5f6bdb-48b4-43f8-fbb2-29c116646a14"
      },
      "source": [
        "print(\"Enter the input state: \",end=\"\")\n",
        "strr = input()"
      ],
      "execution_count": null,
      "outputs": [
        {
          "name": "stdout",
          "output_type": "stream",
          "text": [
            "Enter the input state: 00101\n"
          ]
        }
      ]
    },
    {
      "cell_type": "code",
      "metadata": {
        "id": "zaRp1zYrzJrs",
        "colab": {
          "base_uri": "https://localhost:8080/"
        },
        "outputId": "666b0db2-c81c-4f76-e8a3-6531b69f3587"
      },
      "source": [
        "#if dfa.accepts_input(my_input_str):\n",
        "\n",
        "if dfa1.accepts_input(strr):\n",
        "    print('DFA1 accepted the string',strr)\n",
        "else:\n",
        "    print('DFA1 rejected the string',strr)"
      ],
      "execution_count": null,
      "outputs": [
        {
          "output_type": "stream",
          "name": "stdout",
          "text": [
            "DFA1 accepted the string 00101\n"
          ]
        }
      ]
    },
    {
      "cell_type": "code",
      "metadata": {
        "id": "3ahXDpUeqVGH",
        "colab": {
          "base_uri": "https://localhost:8080/"
        },
        "outputId": "24c89349-66f1-4166-803c-84951d5b326b"
      },
      "source": [
        "if other_dfa.accepts_input(strr):\n",
        "    print('DFA2 accepted the string',strr)\n",
        "else:\n",
        "    print('DFA2 rejected the string',strr)"
      ],
      "execution_count": null,
      "outputs": [
        {
          "output_type": "stream",
          "name": "stdout",
          "text": [
            "DFA2 rejected the string 00101\n"
          ]
        }
      ]
    },
    {
      "cell_type": "code",
      "metadata": {
        "id": "ctlUI9fryyVI",
        "colab": {
          "base_uri": "https://localhost:8080/"
        },
        "outputId": "b4fb6d63-1860-4930-bcfc-c742b2c61ab8"
      },
      "source": [
        "other_dfa.read_input_stepwise('0111') #Yields each state reached as the DFA reads characters from the input string, if the input is accepted.\n"
      ],
      "execution_count": null,
      "outputs": [
        {
          "output_type": "execute_result",
          "data": {
            "text/plain": [
              "<generator object DFA.read_input_stepwise at 0x7f33f955dcd0>"
            ]
          },
          "metadata": {},
          "execution_count": 17
        }
      ]
    },
    {
      "cell_type": "markdown",
      "metadata": {
        "id": "11wZtagkxWmo"
      },
      "source": [
        "#**Minimizing the DFAs**"
      ]
    },
    {
      "cell_type": "code",
      "metadata": {
        "id": "MYZzrWxkzied"
      },
      "source": [
        "dfa1 = dfa1.minify(retain_names=True)"
      ],
      "execution_count": null,
      "outputs": []
    },
    {
      "cell_type": "code",
      "metadata": {
        "id": "WV2hL8vaxeNJ"
      },
      "source": [
        "other_dfa = other_dfa.minify(retain_names=True)"
      ],
      "execution_count": null,
      "outputs": []
    },
    {
      "cell_type": "markdown",
      "metadata": {
        "id": "zPKEYoDjxpRz"
      },
      "source": [
        "#**Union Operation**"
      ]
    },
    {
      "cell_type": "code",
      "metadata": {
        "id": "lQqZDe2nzm7x"
      },
      "source": [
        "#minimal_union_dfa = dfa1 | other_dfa\n",
        "union_dfa = dfa1.union(other_dfa,minify=False)\n",
        "union_dfa = union_dfa.minify(retain_names=True)"
      ],
      "execution_count": null,
      "outputs": []
    },
    {
      "cell_type": "code",
      "metadata": {
        "id": "oR_RNCK7dLtG",
        "colab": {
          "base_uri": "https://localhost:8080/"
        },
        "outputId": "53757f1e-4939-4935-c0f2-b8629dc2c96a"
      },
      "source": [
        "print(union_dfa.states)"
      ],
      "execution_count": null,
      "outputs": [
        {
          "output_type": "stream",
          "name": "stdout",
          "text": [
            "{'{{q0,q2},q33}', '{q1,q33}', '{{q0,q2},q11}', '{{q1,q22},{{q0,q2},q22}}', '{{q0,q2},q00}'}\n"
          ]
        }
      ]
    },
    {
      "cell_type": "code",
      "metadata": {
        "id": "nWFgJz_ADjBj",
        "colab": {
          "base_uri": "https://localhost:8080/"
        },
        "outputId": "1bed36b5-076f-418a-e556-51997faded53"
      },
      "source": [
        "print(union_dfa.input_symbols)"
      ],
      "execution_count": null,
      "outputs": [
        {
          "output_type": "stream",
          "name": "stdout",
          "text": [
            "OrderedSet(['0', '1'])\n"
          ]
        }
      ]
    },
    {
      "cell_type": "code",
      "metadata": {
        "id": "V8r3XURHky7E",
        "colab": {
          "base_uri": "https://localhost:8080/"
        },
        "outputId": "780bf946-a90f-418a-c74c-0ecde8157ce2"
      },
      "source": [
        "print(union_dfa.transitions)"
      ],
      "execution_count": null,
      "outputs": [
        {
          "output_type": "stream",
          "name": "stdout",
          "text": [
            "{'{{q0,q2},q11}': {'0': '{{q0,q2},q33}', '1': '{{q1,q22},{{q0,q2},q22}}'}, '{{q0,q2},q33}': {'0': '{{q0,q2},q33}', '1': '{q1,q33}'}, '{{q0,q2},q00}': {'0': '{{q0,q2},q11}', '1': '{q1,q33}'}, '{{q1,q22},{{q0,q2},q22}}': {'0': '{{q1,q22},{{q0,q2},q22}}', '1': '{{q1,q22},{{q0,q2},q22}}'}, '{q1,q33}': {'0': '{{q0,q2},q33}', '1': '{{q0,q2},q33}'}}\n"
          ]
        }
      ]
    },
    {
      "cell_type": "code",
      "metadata": {
        "id": "q1qTrRL3kzt-",
        "colab": {
          "base_uri": "https://localhost:8080/"
        },
        "outputId": "0426e3a5-d344-47dc-fa4f-b162858738a6"
      },
      "source": [
        "print(union_dfa.initial_state)"
      ],
      "execution_count": null,
      "outputs": [
        {
          "output_type": "stream",
          "name": "stdout",
          "text": [
            "{{q0,q2},q00}\n"
          ]
        }
      ]
    },
    {
      "cell_type": "code",
      "metadata": {
        "id": "7oR2c7UdlIqA",
        "colab": {
          "base_uri": "https://localhost:8080/"
        },
        "outputId": "cb010299-a496-4d4c-9af7-ada4e5d085da"
      },
      "source": [
        "print(union_dfa.final_states)"
      ],
      "execution_count": null,
      "outputs": [
        {
          "output_type": "stream",
          "name": "stdout",
          "text": [
            "{'{q1,q33}', '{{q1,q22},{{q0,q2},q22}}'}\n"
          ]
        }
      ]
    }
  ]
}